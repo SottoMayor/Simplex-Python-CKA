{
 "cells": [
  {
   "cell_type": "code",
   "execution_count": 5,
   "id": "5027c584",
   "metadata": {},
   "outputs": [
    {
     "name": "stdout",
     "output_type": "stream",
     "text": [
      "Quantidade de bolos do tipo A:  5\n",
      "Quantidade de bolos do tipo B:  22\n",
      "Lucro máximo: R$ 775\n",
      "     con: array([], dtype=float64)\n",
      "     fun: -775.0\n",
      " message: 'Optimization terminated successfully.'\n",
      "     nit: 3\n",
      "   slack: array([0.  , 5.75, 0.  ])\n",
      "  status: 0\n",
      " success: True\n",
      "       x: array([ 5. , 22.5])\n"
     ]
    }
   ],
   "source": [
    "from scipy.optimize import linprog\n",
    "\n",
    "# coeficientes da função objetivo\n",
    "c = [-20, -30]\n",
    "\n",
    "# matriz de coeficientes das restrições\n",
    "A = [[3, 6], [1, 0.5], [1, 1]]\n",
    "\n",
    "# vetor de termos independentes das restrições\n",
    "b = [150, 22, 27.5]\n",
    "\n",
    "# limites das variáveis (A e B)\n",
    "x0_bounds = (0, None)\n",
    "x1_bounds = (0, None)\n",
    "\n",
    "# resolvendo o problema de programação linear\n",
    "res = linprog(c, A_ub=A, b_ub=b, bounds=[x0_bounds, x1_bounds], method='simplex')\n",
    "\n",
    "# imprimindo a solução ótima\n",
    "print('Quantidade de bolos do tipo A: ', round(res.x[0]))\n",
    "print('Quantidade de bolos do tipo B: ', round(res.x[1]))\n",
    "print('Lucro máximo: R$', round(-res.fun))\n",
    "\n",
    "print(res)"
   ]
  }
 ],
 "metadata": {
  "kernelspec": {
   "display_name": "Python 3 (ipykernel)",
   "language": "python",
   "name": "python3"
  },
  "language_info": {
   "codemirror_mode": {
    "name": "ipython",
    "version": 3
   },
   "file_extension": ".py",
   "mimetype": "text/x-python",
   "name": "python",
   "nbconvert_exporter": "python",
   "pygments_lexer": "ipython3",
   "version": "3.9.13"
  }
 },
 "nbformat": 4,
 "nbformat_minor": 5
}
