{
 "cells": [
  {
   "cell_type": "code",
   "execution_count": 11,
   "id": "2223163c",
   "metadata": {},
   "outputs": [
    {
     "name": "stdout",
     "output_type": "stream",
     "text": [
      "Tudo certo na execução do programa.\n",
      "Quantidade de interações para chegar no ótimo:  3\n",
      "\n",
      "\n",
      "Quantidade de bolos do tipo A:  5.0\n",
      "Quantidade de bolos do tipo B:  22.5\n",
      "Lucro máximo: R$ 775\n"
     ]
    }
   ],
   "source": [
    "from scipy.optimize import linprog\n",
    "\n",
    "'''\n",
    "Forma geral:\n",
    "    min c'x\n",
    "    s.a: Ax <= b\n",
    "    \n",
    "OBS: min (c'x) é igual max (-c'x)\n",
    "'''\n",
    "\n",
    "# coeficientes da função objetivo\n",
    "c = [-20, -30]\n",
    "\n",
    "# matriz de coeficientes das restrições\n",
    "A = [[3, 6], [1, 0.5], [1, 1]]\n",
    "\n",
    "# vetor de termos independentes das restrições\n",
    "b = [150, 22, 27.5]\n",
    "\n",
    "# limites das variáveis (A e B)\n",
    "x0_bounds = (0, None)\n",
    "x1_bounds = (0, None)\n",
    "\n",
    "# resolvendo o problema de programação linear\n",
    "res = linprog(c, A_ub=A, b_ub=b, bounds=[x0_bounds, x1_bounds], method='simplex')\n",
    "\n",
    "# imprimindo informações relacionados à implementação\n",
    "print('Tudo certo na execução do programa.' if res.success else 'Opa! Algo deu errado. Tente novamente.' )\n",
    "print('Quantidade de interações para chegar no ótimo: ', res.nit)\n",
    "\n",
    "print('\\n')\n",
    "\n",
    "# imprimindo a solução ótima\n",
    "print('Quantidade de bolos do tipo A: ', round(res.x[0], 2))\n",
    "print('Quantidade de bolos do tipo B: ', round(res.x[1], 2))\n",
    "print('Lucro máximo: R$', round(-res.fun))"
   ]
  }
 ],
 "metadata": {
  "kernelspec": {
   "display_name": "Python 3 (ipykernel)",
   "language": "python",
   "name": "python3"
  },
  "language_info": {
   "codemirror_mode": {
    "name": "ipython",
    "version": 3
   },
   "file_extension": ".py",
   "mimetype": "text/x-python",
   "name": "python",
   "nbconvert_exporter": "python",
   "pygments_lexer": "ipython3",
   "version": "3.9.13"
  }
 },
 "nbformat": 4,
 "nbformat_minor": 5
}
